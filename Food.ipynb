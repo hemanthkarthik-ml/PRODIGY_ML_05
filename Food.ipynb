{
  "nbformat": 4,
  "nbformat_minor": 0,
  "metadata": {
    "colab": {
      "provenance": []
    },
    "kernelspec": {
      "name": "python3",
      "display_name": "Python 3"
    },
    "language_info": {
      "name": "python"
    }
  },
  "cells": [
    {
      "cell_type": "code",
      "execution_count": null,
      "metadata": {
        "colab": {
          "base_uri": "https://localhost:8080/"
        },
        "id": "6_7fq9NmAXO7",
        "outputId": "39f083fc-c7e6-4326-8faa-f67d9c397a9f"
      },
      "outputs": [
        {
          "output_type": "stream",
          "name": "stdout",
          "text": [
            "Downloading from https://www.kaggle.com/api/v1/datasets/download/dansbecker/food-101?dataset_version_number=1...\n"
          ]
        },
        {
          "output_type": "stream",
          "name": "stderr",
          "text": [
            "100%|██████████| 9.38G/9.38G [01:32<00:00, 109MB/s] "
          ]
        },
        {
          "output_type": "stream",
          "name": "stdout",
          "text": [
            "Extracting files...\n"
          ]
        },
        {
          "output_type": "stream",
          "name": "stderr",
          "text": [
            "\n"
          ]
        },
        {
          "output_type": "stream",
          "name": "stdout",
          "text": [
            "Path to dataset files: /root/.cache/kagglehub/datasets/dansbecker/food-101/versions/1\n"
          ]
        }
      ],
      "source": [
        "import kagglehub\n",
        "\n",
        "# Download latest version\n",
        "path = kagglehub.dataset_download(\"dansbecker/food-101\")\n",
        "\n",
        "print(\"Path to dataset files:\", path)"
      ]
    },
    {
      "cell_type": "code",
      "source": [
        "!pip install kagglehub --upgrade -q\n",
        "\n",
        "import kagglehub\n",
        "import os\n",
        "\n",
        "# Download Food-101 dataset\n",
        "path = kagglehub.dataset_download(\"dansbecker/food-101\")\n",
        "print(\"📁 Dataset downloaded to:\", path)\n",
        "\n",
        "# Detect the actual image directory\n",
        "# The original code assumed 'food-101/images' structure.\n",
        "# Assuming the images are directly under the downloaded path.\n",
        "data_dir = os.path.join(path, \"images\")  # Updated this line\n",
        "\n",
        "# If images not found in the assumed location, print contents for investigation\n",
        "if not os.path.exists(data_dir):\n",
        "    print(\"❌ Images folder not found at:\", data_dir)\n",
        "    print(\"Contents of downloaded path:\", os.listdir(path))\n",
        "    # You can explore the content to identify the correct folder structure.\n",
        "    # raise FileNotFoundError(\"Check path structure.\")  # Temporarily commented for debugging\n",
        "else:\n",
        "    print(\"✅ Image folder located at:\", data_dir)"
      ],
      "metadata": {
        "colab": {
          "base_uri": "https://localhost:8080/"
        },
        "id": "95FLjBXOBohx",
        "outputId": "99c666f6-250a-4fe2-e4a8-be007d8358a0"
      },
      "execution_count": null,
      "outputs": [
        {
          "output_type": "stream",
          "name": "stdout",
          "text": [
            "📁 Dataset downloaded to: /root/.cache/kagglehub/datasets/dansbecker/food-101/versions/1\n",
            "❌ Images folder not found at: /root/.cache/kagglehub/datasets/dansbecker/food-101/versions/1/images\n",
            "Contents of downloaded path: ['food-101.zip', 'food-101']\n"
          ]
        }
      ]
    },
    {
      "cell_type": "code",
      "source": [
        "import numpy as np\n",
        "import cv2\n",
        "from tensorflow.keras.utils import to_categorical\n",
        "from sklearn.model_selection import train_test_split\n",
        "from tqdm import tqdm\n",
        "\n",
        "image_size = 100  # or 64 to go lighter\n",
        "X, y = [], []\n",
        "classes = sorted(os.listdir(data_dir))  # List of food categories\n",
        "label_map = {name: idx for idx, name in enumerate(classes)}\n",
        "\n",
        "print(\"📦 Loading images for\", len(classes), \"classes...\")\n",
        "\n",
        "# Limit number of images per class to speed up training\n",
        "for class_name in tqdm(classes[:50]):  # Optional: use only top 50 classes\n",
        "    class_path = os.path.join(data_dir, class_name)\n",
        "    for img_file in os.listdir(class_path)[:300]:  # Limit per class\n",
        "        try:\n",
        "            img = cv2.imread(os.path.join(class_path, img_file))\n",
        "            img = cv2.resize(img, (image_size, image_size))\n",
        "            X.append(img)\n",
        "            y.append(label_map[class_name])\n",
        "        except:\n",
        "            continue\n",
        "\n",
        "X = np.array(X) / 255.0\n",
        "y = to_categorical(np.array(y), num_classes=len(classes))\n",
        "\n",
        "X_train, X_test, y_train, y_test = train_test_split(X, y, test_size=0.2, random_state=42)\n",
        "\n",
        "print(\"✅ Data loaded:\")\n",
        "print(f\" - Train shape: {X_train.shape}\")\n",
        "print(f\" - Test shape: {X_test.shape}\")\n"
      ],
      "metadata": {
        "colab": {
          "base_uri": "https://localhost:8080/",
          "height": 228
        },
        "id": "5J8FTGp0DM2S",
        "outputId": "1f1c01c5-ec2d-4813-c017-2af5f3850027"
      },
      "execution_count": null,
      "outputs": [
        {
          "output_type": "error",
          "ename": "FileNotFoundError",
          "evalue": "[Errno 2] No such file or directory: '/root/.cache/kagglehub/datasets/dansbecker/food-101/versions/1/images'",
          "traceback": [
            "\u001b[0;31m---------------------------------------------------------------------------\u001b[0m",
            "\u001b[0;31mFileNotFoundError\u001b[0m                         Traceback (most recent call last)",
            "\u001b[0;32m<ipython-input-5-f70a50b36fb9>\u001b[0m in \u001b[0;36m<cell line: 0>\u001b[0;34m()\u001b[0m\n\u001b[1;32m      7\u001b[0m \u001b[0mimage_size\u001b[0m \u001b[0;34m=\u001b[0m \u001b[0;36m100\u001b[0m  \u001b[0;31m# or 64 to go lighter\u001b[0m\u001b[0;34m\u001b[0m\u001b[0;34m\u001b[0m\u001b[0m\n\u001b[1;32m      8\u001b[0m \u001b[0mX\u001b[0m\u001b[0;34m,\u001b[0m \u001b[0my\u001b[0m \u001b[0;34m=\u001b[0m \u001b[0;34m[\u001b[0m\u001b[0;34m]\u001b[0m\u001b[0;34m,\u001b[0m \u001b[0;34m[\u001b[0m\u001b[0;34m]\u001b[0m\u001b[0;34m\u001b[0m\u001b[0;34m\u001b[0m\u001b[0m\n\u001b[0;32m----> 9\u001b[0;31m \u001b[0mclasses\u001b[0m \u001b[0;34m=\u001b[0m \u001b[0msorted\u001b[0m\u001b[0;34m(\u001b[0m\u001b[0mos\u001b[0m\u001b[0;34m.\u001b[0m\u001b[0mlistdir\u001b[0m\u001b[0;34m(\u001b[0m\u001b[0mdata_dir\u001b[0m\u001b[0;34m)\u001b[0m\u001b[0;34m)\u001b[0m  \u001b[0;31m# List of food categories\u001b[0m\u001b[0;34m\u001b[0m\u001b[0;34m\u001b[0m\u001b[0m\n\u001b[0m\u001b[1;32m     10\u001b[0m \u001b[0mlabel_map\u001b[0m \u001b[0;34m=\u001b[0m \u001b[0;34m{\u001b[0m\u001b[0mname\u001b[0m\u001b[0;34m:\u001b[0m \u001b[0midx\u001b[0m \u001b[0;32mfor\u001b[0m \u001b[0midx\u001b[0m\u001b[0;34m,\u001b[0m \u001b[0mname\u001b[0m \u001b[0;32min\u001b[0m \u001b[0menumerate\u001b[0m\u001b[0;34m(\u001b[0m\u001b[0mclasses\u001b[0m\u001b[0;34m)\u001b[0m\u001b[0;34m}\u001b[0m\u001b[0;34m\u001b[0m\u001b[0;34m\u001b[0m\u001b[0m\n\u001b[1;32m     11\u001b[0m \u001b[0;34m\u001b[0m\u001b[0m\n",
            "\u001b[0;31mFileNotFoundError\u001b[0m: [Errno 2] No such file or directory: '/root/.cache/kagglehub/datasets/dansbecker/food-101/versions/1/images'"
          ]
        }
      ]
    }
  ]
}